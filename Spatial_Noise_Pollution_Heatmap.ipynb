{
  "cells": [
    {
      "cell_type": "markdown",
      "metadata": {
        "id": "vBltaTi8Xx8o"
      },
      "source": [
        "**Project Title**                                                        \n",
        "*Spatial Noise Pollution Heatmap Generator for Indian Cities*"
      ]
    },
    {
      "cell_type": "markdown",
      "metadata": {
        "id": "7S2Ilj3oYBMK"
      },
      "source": [
        "**Problem Statement**:                                                 Noise pollution is a significant environmental concern in urban areas, impacting health and quality of life. The dataset provides ambient noise levels (day and night, in dB) from monitoring stations across major Indian cities (Delhi, Bengaluru, Chennai, Hyderabad, Kolkata, Lucknow, Mumbai) from 2011 to 2018. The task is to predict and interpolate noise levels across a geographic region to create a heatmap visualizing noise pollution intensity, enabling insights into spatial patterns and high-risk areas.\n",
        "\n",
        "**Description:**\n",
        "\n",
        "\n",
        "1.   Load and preprocess the dataset, merging station information with noise measurements.\n",
        "2.   Assign approximate geographic coordinates to each city for spatial analysis.\n",
        "\n",
        "\n",
        "3.   Aggregate noise data (e.g., average day noise levels) for each station.\n",
        "4.   Use spatial interpolation (e.g., Inverse Distance Weighting or Kriging) to predict noise levels across a grid.\n",
        "\n",
        "5.   Generate a heatmap to visualize noise pollution intensity\n",
        "6.  Evaluate the interpolation model and save it for future use.\n",
        "\n",
        "\n",
        "\n",
        "\n",
        "\n",
        "\n",
        "\n"
      ]
    },
    {
      "cell_type": "markdown",
      "metadata": {
        "id": "XwHJUvLnbL94"
      },
      "source": [
        "**Step 1: Import Required Libraries**"
      ]
    },
    {
      "cell_type": "code",
      "execution_count": 13,
      "metadata": {
        "id": "eMVEE9eoFGc2"
      },
      "outputs": [],
      "source": [
        "import pandas as pd\n",
        "import numpy as np\n",
        "import geopandas as gpd\n",
        "from scipy.interpolate import griddata\n",
        "import matplotlib.pyplot as plt\n",
        "import seaborn as sns\n",
        "from sklearn.metrics import mean_squared_error\n",
        "import warnings\n",
        "warnings.filterwarnings('ignore')"
      ]
    },
    {
      "cell_type": "markdown",
      "metadata": {
        "id": "T8TuOaWvbVDU"
      },
      "source": [
        "**Step 2: Load Dataset**                                                    \n",
        "Load the provided CSV files (stations.csv and station_month.csv)."
      ]
    },
    {
      "cell_type": "code",
      "execution_count": 14,
      "metadata": {
        "colab": {
          "base_uri": "https://localhost:8080/"
        },
        "id": "Ir9cD70oGOHi",
        "outputId": "2f59a390-44b2-42fe-c367-9736f34750cb"
      },
      "outputs": [
        {
          "name": "stdout",
          "output_type": "stream",
          "text": [
            "Stations DataFrame:\n",
            "  Station            Name   City  State        Type\n",
            "0   DEL01  Dilshad Garden  Delhi  Delhi     Silence\n",
            "1   DEL02        CPCB, HQ  Delhi  Delhi  Commercial\n",
            "2   DEL03     DCE, Bawana  Delhi  Delhi     Silence\n",
            "3   DEL04             ITO  Delhi  Delhi  Commercial\n",
            "4   DEL05    NSIT, Dwarka  Delhi  Delhi     Silence\n",
            "\n",
            "Noise DataFrame:\n",
            "  Station  Year  Month   Day  Night  DayLimit  NightLimit\n",
            "0   BEN01  2011      2  66.0   56.0        55          45\n",
            "1   BEN01  2011      3  66.0   58.0        55          45\n",
            "2   BEN01  2011      4  66.0   57.0        55          45\n",
            "3   BEN01  2011      5  66.0   56.0        55          45\n",
            "4   BEN01  2011      6  67.0   57.0        55          45\n"
          ]
        }
      ],
      "source": [
        "# Load the datasets\n",
        "stations_df = pd.read_csv('stations.csv')\n",
        "noise_df = pd.read_csv('station_month.csv')\n",
        "\n",
        "# Display the first few rows to understand the structure\n",
        "print(\"Stations DataFrame:\")\n",
        "print(stations_df.head())\n",
        "print(\"\\nNoise DataFrame:\")\n",
        "print(noise_df.head())"
      ]
    },
    {
      "cell_type": "markdown",
      "metadata": {
        "id": "M_Fjd_HsbZ34"
      },
      "source": [
        "**Step 3: Explore and Understand the Data**\n",
        "\n",
        "\n",
        "*  **stations.csv**: Contains station details (Station ID, Name, City, State, Type)\n",
        "*   **station_month.csv**: Contains monthly noise levels (Day and Night dB) and regulatory limits (DayLimit, NightLimit) for each station from 2011 to 2018.\n",
        "\n",
        "\n",
        "Key Observations:\n",
        "\n",
        "\n",
        "*  Stations are categorized by type (Silence, Commercial, Residential, Industrial).\n",
        "*   Noise levels are recorded for day and night, with corresponding limits.\n",
        "\n",
        "\n",
        "*  No explicit geographic coordinates are provided, so we’ll need to assign approximate coordinates based on city names.\n",
        "*The dataset spans multiple years, so we can aggregate data (e.g., mean day noise) for each station.\n",
        "\n",
        "\n",
        "\n",
        "\n",
        "\n"
      ]
    },
    {
      "cell_type": "code",
      "execution_count": 15,
      "metadata": {
        "colab": {
          "base_uri": "https://localhost:8080/"
        },
        "id": "SrXiofhrGhIg",
        "outputId": "ea2df1fe-4ad3-49b9-9f70-463286376a44"
      },
      "outputs": [
        {
          "name": "stdout",
          "output_type": "stream",
          "text": [
            "Missing values in stations_df:\n",
            "Station    0\n",
            "Name       0\n",
            "City       0\n",
            "State      0\n",
            "Type       0\n",
            "dtype: int64\n",
            "\n",
            "Missing values in noise_df:\n",
            "Station        0\n",
            "Year           0\n",
            "Month          0\n",
            "Day            3\n",
            "Night         10\n",
            "DayLimit       0\n",
            "NightLimit     0\n",
            "dtype: int64\n",
            "\n",
            "Noise Data Statistics:\n",
            "              Year        Month          Day        Night     DayLimit  \\\n",
            "count  5005.000000  5005.000000  5002.000000  4995.000000  5005.000000   \n",
            "mean   2015.195804     6.538462    65.817073    60.430831    60.716284   \n",
            "std       2.172061     3.433561     7.413591     8.172730     8.769259   \n",
            "min    2011.000000     1.000000    31.000000    25.000000    50.000000   \n",
            "25%    2014.000000     4.000000    61.000000    55.000000    50.000000   \n",
            "50%    2016.000000     7.000000    66.000000    59.000000    65.000000   \n",
            "75%    2017.000000    10.000000    71.000000    66.000000    65.000000   \n",
            "max    2018.000000    12.000000   100.000000   103.000000    75.000000   \n",
            "\n",
            "        NightLimit  \n",
            "count  5005.000000  \n",
            "mean     51.526474  \n",
            "std      10.170781  \n",
            "min      40.000000  \n",
            "25%      40.000000  \n",
            "50%      55.000000  \n",
            "75%      55.000000  \n",
            "max      70.000000  \n"
          ]
        }
      ],
      "source": [
        "# Check for missing values\n",
        "print(\"Missing values in stations_df:\")\n",
        "print(stations_df.isnull().sum())\n",
        "print(\"\\nMissing values in noise_df:\")\n",
        "print(noise_df.isnull().sum())\n",
        "\n",
        "# Basic statistics\n",
        "print(\"\\nNoise Data Statistics:\")\n",
        "print(noise_df.describe())"
      ]
    },
    {
      "cell_type": "markdown",
      "metadata": {
        "id": "oXO5FCVWcYY2"
      },
      "source": [
        "**Step 4: Data Preprocessing**\n",
        "\n",
        "\n",
        "1.   **Handle Missing Values**: Replace missing values in Day and Night columns with their respective means.\n",
        "2.   **Merge Datasets:** Combine stations.csv and station_month.csv.\n",
        "\n",
        "3.  **Assign Coordinates:** Use approximate city coordinates.\n",
        "4.  **Aggregate Data:** Compute average day noise per station.\n",
        "\n",
        "\n",
        "\n",
        "\n",
        "\n"
      ]
    },
    {
      "cell_type": "code",
      "execution_count": 16,
      "metadata": {
        "colab": {
          "base_uri": "https://localhost:8080/"
        },
        "id": "OO7amKl2GmPJ",
        "outputId": "5e060f7a-0b12-4cfe-cc1a-ad60693c4678"
      },
      "outputs": [
        {
          "name": "stdout",
          "output_type": "stream",
          "text": [
            "Missing values in noise_df:\n",
            "Day       3\n",
            "Night    10\n",
            "dtype: int64\n"
          ]
        }
      ],
      "source": [
        "# Check for missing values\n",
        "print(\"Missing values in noise_df:\")\n",
        "print(noise_df[['Day', 'Night']].isnull().sum())"
      ]
    },
    {
      "cell_type": "code",
      "execution_count": 17,
      "metadata": {
        "id": "N8ZjEt23HNcv"
      },
      "outputs": [],
      "source": [
        "# Replace missing values in 'Day' and 'Night' with column means\n",
        "noise_df['Day'] = noise_df['Day'].fillna(noise_df['Day'].mean())\n",
        "noise_df['Night'] = noise_df['Night'].fillna(noise_df['Night'].mean())"
      ]
    },
    {
      "cell_type": "code",
      "execution_count": 18,
      "metadata": {
        "colab": {
          "base_uri": "https://localhost:8080/"
        },
        "id": "cLS6ExfBUALM",
        "outputId": "b9276a19-8a11-459a-b8de-578df7b91508"
      },
      "outputs": [
        {
          "name": "stdout",
          "output_type": "stream",
          "text": [
            "Missing values after imputation:\n",
            "Day      0\n",
            "Night    0\n",
            "dtype: int64\n"
          ]
        }
      ],
      "source": [
        "# Verify missing values are handled\n",
        "print(\"Missing values after imputation:\")\n",
        "print(noise_df[['Day', 'Night']].isnull().sum())"
      ]
    },
    {
      "cell_type": "code",
      "execution_count": 19,
      "metadata": {
        "colab": {
          "base_uri": "https://localhost:8080/"
        },
        "id": "pC4ymifdUKxC",
        "outputId": "fd5e9c28-7621-44b9-d85b-8bbdd9ac8b38"
      },
      "outputs": [
        {
          "name": "stdout",
          "output_type": "stream",
          "text": [
            "Station       0\n",
            "Year          0\n",
            "Month         0\n",
            "Day           0\n",
            "Night         0\n",
            "DayLimit      0\n",
            "NightLimit    0\n",
            "dtype: int64\n"
          ]
        }
      ],
      "source": [
        "print(noise_df.isnull().sum())"
      ]
    },
    {
      "cell_type": "code",
      "execution_count": 20,
      "metadata": {
        "id": "d10y6BSWUKze"
      },
      "outputs": [],
      "source": [
        "# Merge datasets\n",
        "merged_df = pd.merge(noise_df, stations_df, on='Station', how='left')"
      ]
    },
    {
      "cell_type": "code",
      "execution_count": 21,
      "metadata": {
        "colab": {
          "base_uri": "https://localhost:8080/",
          "height": 423
        },
        "id": "QB4NLFVQUY6a",
        "outputId": "a4e3f049-4d9b-4cb8-abe2-420f42d6463d"
      },
      "outputs": [
        {
          "data": {
            "text/html": [
              "<div>\n",
              "<style scoped>\n",
              "    .dataframe tbody tr th:only-of-type {\n",
              "        vertical-align: middle;\n",
              "    }\n",
              "\n",
              "    .dataframe tbody tr th {\n",
              "        vertical-align: top;\n",
              "    }\n",
              "\n",
              "    .dataframe thead th {\n",
              "        text-align: right;\n",
              "    }\n",
              "</style>\n",
              "<table border=\"1\" class=\"dataframe\">\n",
              "  <thead>\n",
              "    <tr style=\"text-align: right;\">\n",
              "      <th></th>\n",
              "      <th>Station</th>\n",
              "      <th>Year</th>\n",
              "      <th>Month</th>\n",
              "      <th>Day</th>\n",
              "      <th>Night</th>\n",
              "      <th>DayLimit</th>\n",
              "      <th>NightLimit</th>\n",
              "      <th>Name</th>\n",
              "      <th>City</th>\n",
              "      <th>State</th>\n",
              "      <th>Type</th>\n",
              "    </tr>\n",
              "  </thead>\n",
              "  <tbody>\n",
              "    <tr>\n",
              "      <th>0</th>\n",
              "      <td>BEN01</td>\n",
              "      <td>2011</td>\n",
              "      <td>2</td>\n",
              "      <td>66.0</td>\n",
              "      <td>56.0</td>\n",
              "      <td>55</td>\n",
              "      <td>45</td>\n",
              "      <td>BTM</td>\n",
              "      <td>Bengaluru</td>\n",
              "      <td>Karnataka</td>\n",
              "      <td>Residential</td>\n",
              "    </tr>\n",
              "    <tr>\n",
              "      <th>1</th>\n",
              "      <td>BEN01</td>\n",
              "      <td>2011</td>\n",
              "      <td>3</td>\n",
              "      <td>66.0</td>\n",
              "      <td>58.0</td>\n",
              "      <td>55</td>\n",
              "      <td>45</td>\n",
              "      <td>BTM</td>\n",
              "      <td>Bengaluru</td>\n",
              "      <td>Karnataka</td>\n",
              "      <td>Residential</td>\n",
              "    </tr>\n",
              "    <tr>\n",
              "      <th>2</th>\n",
              "      <td>BEN01</td>\n",
              "      <td>2011</td>\n",
              "      <td>4</td>\n",
              "      <td>66.0</td>\n",
              "      <td>57.0</td>\n",
              "      <td>55</td>\n",
              "      <td>45</td>\n",
              "      <td>BTM</td>\n",
              "      <td>Bengaluru</td>\n",
              "      <td>Karnataka</td>\n",
              "      <td>Residential</td>\n",
              "    </tr>\n",
              "    <tr>\n",
              "      <th>3</th>\n",
              "      <td>BEN01</td>\n",
              "      <td>2011</td>\n",
              "      <td>5</td>\n",
              "      <td>66.0</td>\n",
              "      <td>56.0</td>\n",
              "      <td>55</td>\n",
              "      <td>45</td>\n",
              "      <td>BTM</td>\n",
              "      <td>Bengaluru</td>\n",
              "      <td>Karnataka</td>\n",
              "      <td>Residential</td>\n",
              "    </tr>\n",
              "    <tr>\n",
              "      <th>4</th>\n",
              "      <td>BEN01</td>\n",
              "      <td>2011</td>\n",
              "      <td>6</td>\n",
              "      <td>67.0</td>\n",
              "      <td>57.0</td>\n",
              "      <td>55</td>\n",
              "      <td>45</td>\n",
              "      <td>BTM</td>\n",
              "      <td>Bengaluru</td>\n",
              "      <td>Karnataka</td>\n",
              "      <td>Residential</td>\n",
              "    </tr>\n",
              "    <tr>\n",
              "      <th>...</th>\n",
              "      <td>...</td>\n",
              "      <td>...</td>\n",
              "      <td>...</td>\n",
              "      <td>...</td>\n",
              "      <td>...</td>\n",
              "      <td>...</td>\n",
              "      <td>...</td>\n",
              "      <td>...</td>\n",
              "      <td>...</td>\n",
              "      <td>...</td>\n",
              "      <td>...</td>\n",
              "    </tr>\n",
              "    <tr>\n",
              "      <th>5000</th>\n",
              "      <td>MUM10</td>\n",
              "      <td>2018</td>\n",
              "      <td>8</td>\n",
              "      <td>73.0</td>\n",
              "      <td>69.0</td>\n",
              "      <td>65</td>\n",
              "      <td>55</td>\n",
              "      <td>CST</td>\n",
              "      <td>Mumbai</td>\n",
              "      <td>Maharashtra</td>\n",
              "      <td>Commercial</td>\n",
              "    </tr>\n",
              "    <tr>\n",
              "      <th>5001</th>\n",
              "      <td>MUM10</td>\n",
              "      <td>2018</td>\n",
              "      <td>9</td>\n",
              "      <td>72.0</td>\n",
              "      <td>68.0</td>\n",
              "      <td>65</td>\n",
              "      <td>55</td>\n",
              "      <td>CST</td>\n",
              "      <td>Mumbai</td>\n",
              "      <td>Maharashtra</td>\n",
              "      <td>Commercial</td>\n",
              "    </tr>\n",
              "    <tr>\n",
              "      <th>5002</th>\n",
              "      <td>MUM10</td>\n",
              "      <td>2018</td>\n",
              "      <td>10</td>\n",
              "      <td>73.0</td>\n",
              "      <td>68.0</td>\n",
              "      <td>65</td>\n",
              "      <td>55</td>\n",
              "      <td>CST</td>\n",
              "      <td>Mumbai</td>\n",
              "      <td>Maharashtra</td>\n",
              "      <td>Commercial</td>\n",
              "    </tr>\n",
              "    <tr>\n",
              "      <th>5003</th>\n",
              "      <td>MUM10</td>\n",
              "      <td>2018</td>\n",
              "      <td>11</td>\n",
              "      <td>72.0</td>\n",
              "      <td>68.0</td>\n",
              "      <td>65</td>\n",
              "      <td>55</td>\n",
              "      <td>CST</td>\n",
              "      <td>Mumbai</td>\n",
              "      <td>Maharashtra</td>\n",
              "      <td>Commercial</td>\n",
              "    </tr>\n",
              "    <tr>\n",
              "      <th>5004</th>\n",
              "      <td>MUM10</td>\n",
              "      <td>2018</td>\n",
              "      <td>12</td>\n",
              "      <td>72.0</td>\n",
              "      <td>68.0</td>\n",
              "      <td>65</td>\n",
              "      <td>55</td>\n",
              "      <td>CST</td>\n",
              "      <td>Mumbai</td>\n",
              "      <td>Maharashtra</td>\n",
              "      <td>Commercial</td>\n",
              "    </tr>\n",
              "  </tbody>\n",
              "</table>\n",
              "<p>5005 rows × 11 columns</p>\n",
              "</div>"
            ],
            "text/plain": [
              "     Station  Year  Month   Day  Night  DayLimit  NightLimit Name       City  \\\n",
              "0      BEN01  2011      2  66.0   56.0        55          45  BTM  Bengaluru   \n",
              "1      BEN01  2011      3  66.0   58.0        55          45  BTM  Bengaluru   \n",
              "2      BEN01  2011      4  66.0   57.0        55          45  BTM  Bengaluru   \n",
              "3      BEN01  2011      5  66.0   56.0        55          45  BTM  Bengaluru   \n",
              "4      BEN01  2011      6  67.0   57.0        55          45  BTM  Bengaluru   \n",
              "...      ...   ...    ...   ...    ...       ...         ...  ...        ...   \n",
              "5000   MUM10  2018      8  73.0   69.0        65          55  CST     Mumbai   \n",
              "5001   MUM10  2018      9  72.0   68.0        65          55  CST     Mumbai   \n",
              "5002   MUM10  2018     10  73.0   68.0        65          55  CST     Mumbai   \n",
              "5003   MUM10  2018     11  72.0   68.0        65          55  CST     Mumbai   \n",
              "5004   MUM10  2018     12  72.0   68.0        65          55  CST     Mumbai   \n",
              "\n",
              "            State         Type  \n",
              "0       Karnataka  Residential  \n",
              "1       Karnataka  Residential  \n",
              "2       Karnataka  Residential  \n",
              "3       Karnataka  Residential  \n",
              "4       Karnataka  Residential  \n",
              "...           ...          ...  \n",
              "5000  Maharashtra   Commercial  \n",
              "5001  Maharashtra   Commercial  \n",
              "5002  Maharashtra   Commercial  \n",
              "5003  Maharashtra   Commercial  \n",
              "5004  Maharashtra   Commercial  \n",
              "\n",
              "[5005 rows x 11 columns]"
            ]
          },
          "execution_count": 21,
          "metadata": {},
          "output_type": "execute_result"
        }
      ],
      "source": [
        "merged_df"
      ]
    },
    {
      "cell_type": "code",
      "execution_count": 22,
      "metadata": {
        "id": "FTTQPUT7UabH"
      },
      "outputs": [],
      "source": [
        "# Assign approximate coordinates for cities\n",
        "city_coords = {\n",
        "    'Delhi': (28.7041, 77.1025),\n",
        "    'Bengaluru': (12.9716, 77.5946),\n",
        "    'Chennai': (13.0827, 80.2707),\n",
        "    'Hyderabad': (17.3850, 78.4867),\n",
        "    'Kolkata': (22.5726, 88.3639),\n",
        "    'Lucknow': (26.8467, 80.9462),\n",
        "    'Mumbai': (19.0760, 72.8777),\n",
        "    'Navi Mumbai': (19.0330, 73.0297)\n",
        "}"
      ]
    },
    {
      "cell_type": "code",
      "execution_count": 23,
      "metadata": {
        "colab": {
          "base_uri": "https://localhost:8080/"
        },
        "id": "j37-uMqoVPsT",
        "outputId": "06c668c3-10b2-4788-f1b5-f3057b670727"
      },
      "outputs": [
        {
          "data": {
            "text/plain": [
              "{'Delhi': (28.7041, 77.1025),\n",
              " 'Bengaluru': (12.9716, 77.5946),\n",
              " 'Chennai': (13.0827, 80.2707),\n",
              " 'Hyderabad': (17.385, 78.4867),\n",
              " 'Kolkata': (22.5726, 88.3639),\n",
              " 'Lucknow': (26.8467, 80.9462),\n",
              " 'Mumbai': (19.076, 72.8777),\n",
              " 'Navi Mumbai': (19.033, 73.0297)}"
            ]
          },
          "execution_count": 23,
          "metadata": {},
          "output_type": "execute_result"
        }
      ],
      "source": [
        "city_coords"
      ]
    },
    {
      "cell_type": "code",
      "execution_count": 24,
      "metadata": {
        "colab": {
          "base_uri": "https://localhost:8080/",
          "height": 423
        },
        "id": "xd_DEqemVRPR",
        "outputId": "ef9d4cb0-307f-4a25-d351-d004956f46cc"
      },
      "outputs": [
        {
          "data": {
            "text/html": [
              "<div>\n",
              "<style scoped>\n",
              "    .dataframe tbody tr th:only-of-type {\n",
              "        vertical-align: middle;\n",
              "    }\n",
              "\n",
              "    .dataframe tbody tr th {\n",
              "        vertical-align: top;\n",
              "    }\n",
              "\n",
              "    .dataframe thead th {\n",
              "        text-align: right;\n",
              "    }\n",
              "</style>\n",
              "<table border=\"1\" class=\"dataframe\">\n",
              "  <thead>\n",
              "    <tr style=\"text-align: right;\">\n",
              "      <th></th>\n",
              "      <th>Station</th>\n",
              "      <th>Year</th>\n",
              "      <th>Month</th>\n",
              "      <th>Day</th>\n",
              "      <th>Night</th>\n",
              "      <th>DayLimit</th>\n",
              "      <th>NightLimit</th>\n",
              "      <th>Name</th>\n",
              "      <th>City</th>\n",
              "      <th>State</th>\n",
              "      <th>Type</th>\n",
              "      <th>Latitude</th>\n",
              "      <th>Longitude</th>\n",
              "    </tr>\n",
              "  </thead>\n",
              "  <tbody>\n",
              "    <tr>\n",
              "      <th>0</th>\n",
              "      <td>BEN01</td>\n",
              "      <td>2011</td>\n",
              "      <td>2</td>\n",
              "      <td>66.0</td>\n",
              "      <td>56.0</td>\n",
              "      <td>55</td>\n",
              "      <td>45</td>\n",
              "      <td>BTM</td>\n",
              "      <td>Bengaluru</td>\n",
              "      <td>Karnataka</td>\n",
              "      <td>Residential</td>\n",
              "      <td>12.9716</td>\n",
              "      <td>77.5946</td>\n",
              "    </tr>\n",
              "    <tr>\n",
              "      <th>1</th>\n",
              "      <td>BEN01</td>\n",
              "      <td>2011</td>\n",
              "      <td>3</td>\n",
              "      <td>66.0</td>\n",
              "      <td>58.0</td>\n",
              "      <td>55</td>\n",
              "      <td>45</td>\n",
              "      <td>BTM</td>\n",
              "      <td>Bengaluru</td>\n",
              "      <td>Karnataka</td>\n",
              "      <td>Residential</td>\n",
              "      <td>12.9716</td>\n",
              "      <td>77.5946</td>\n",
              "    </tr>\n",
              "    <tr>\n",
              "      <th>2</th>\n",
              "      <td>BEN01</td>\n",
              "      <td>2011</td>\n",
              "      <td>4</td>\n",
              "      <td>66.0</td>\n",
              "      <td>57.0</td>\n",
              "      <td>55</td>\n",
              "      <td>45</td>\n",
              "      <td>BTM</td>\n",
              "      <td>Bengaluru</td>\n",
              "      <td>Karnataka</td>\n",
              "      <td>Residential</td>\n",
              "      <td>12.9716</td>\n",
              "      <td>77.5946</td>\n",
              "    </tr>\n",
              "    <tr>\n",
              "      <th>3</th>\n",
              "      <td>BEN01</td>\n",
              "      <td>2011</td>\n",
              "      <td>5</td>\n",
              "      <td>66.0</td>\n",
              "      <td>56.0</td>\n",
              "      <td>55</td>\n",
              "      <td>45</td>\n",
              "      <td>BTM</td>\n",
              "      <td>Bengaluru</td>\n",
              "      <td>Karnataka</td>\n",
              "      <td>Residential</td>\n",
              "      <td>12.9716</td>\n",
              "      <td>77.5946</td>\n",
              "    </tr>\n",
              "    <tr>\n",
              "      <th>4</th>\n",
              "      <td>BEN01</td>\n",
              "      <td>2011</td>\n",
              "      <td>6</td>\n",
              "      <td>67.0</td>\n",
              "      <td>57.0</td>\n",
              "      <td>55</td>\n",
              "      <td>45</td>\n",
              "      <td>BTM</td>\n",
              "      <td>Bengaluru</td>\n",
              "      <td>Karnataka</td>\n",
              "      <td>Residential</td>\n",
              "      <td>12.9716</td>\n",
              "      <td>77.5946</td>\n",
              "    </tr>\n",
              "    <tr>\n",
              "      <th>...</th>\n",
              "      <td>...</td>\n",
              "      <td>...</td>\n",
              "      <td>...</td>\n",
              "      <td>...</td>\n",
              "      <td>...</td>\n",
              "      <td>...</td>\n",
              "      <td>...</td>\n",
              "      <td>...</td>\n",
              "      <td>...</td>\n",
              "      <td>...</td>\n",
              "      <td>...</td>\n",
              "      <td>...</td>\n",
              "      <td>...</td>\n",
              "    </tr>\n",
              "    <tr>\n",
              "      <th>5000</th>\n",
              "      <td>MUM10</td>\n",
              "      <td>2018</td>\n",
              "      <td>8</td>\n",
              "      <td>73.0</td>\n",
              "      <td>69.0</td>\n",
              "      <td>65</td>\n",
              "      <td>55</td>\n",
              "      <td>CST</td>\n",
              "      <td>Mumbai</td>\n",
              "      <td>Maharashtra</td>\n",
              "      <td>Commercial</td>\n",
              "      <td>19.0760</td>\n",
              "      <td>72.8777</td>\n",
              "    </tr>\n",
              "    <tr>\n",
              "      <th>5001</th>\n",
              "      <td>MUM10</td>\n",
              "      <td>2018</td>\n",
              "      <td>9</td>\n",
              "      <td>72.0</td>\n",
              "      <td>68.0</td>\n",
              "      <td>65</td>\n",
              "      <td>55</td>\n",
              "      <td>CST</td>\n",
              "      <td>Mumbai</td>\n",
              "      <td>Maharashtra</td>\n",
              "      <td>Commercial</td>\n",
              "      <td>19.0760</td>\n",
              "      <td>72.8777</td>\n",
              "    </tr>\n",
              "    <tr>\n",
              "      <th>5002</th>\n",
              "      <td>MUM10</td>\n",
              "      <td>2018</td>\n",
              "      <td>10</td>\n",
              "      <td>73.0</td>\n",
              "      <td>68.0</td>\n",
              "      <td>65</td>\n",
              "      <td>55</td>\n",
              "      <td>CST</td>\n",
              "      <td>Mumbai</td>\n",
              "      <td>Maharashtra</td>\n",
              "      <td>Commercial</td>\n",
              "      <td>19.0760</td>\n",
              "      <td>72.8777</td>\n",
              "    </tr>\n",
              "    <tr>\n",
              "      <th>5003</th>\n",
              "      <td>MUM10</td>\n",
              "      <td>2018</td>\n",
              "      <td>11</td>\n",
              "      <td>72.0</td>\n",
              "      <td>68.0</td>\n",
              "      <td>65</td>\n",
              "      <td>55</td>\n",
              "      <td>CST</td>\n",
              "      <td>Mumbai</td>\n",
              "      <td>Maharashtra</td>\n",
              "      <td>Commercial</td>\n",
              "      <td>19.0760</td>\n",
              "      <td>72.8777</td>\n",
              "    </tr>\n",
              "    <tr>\n",
              "      <th>5004</th>\n",
              "      <td>MUM10</td>\n",
              "      <td>2018</td>\n",
              "      <td>12</td>\n",
              "      <td>72.0</td>\n",
              "      <td>68.0</td>\n",
              "      <td>65</td>\n",
              "      <td>55</td>\n",
              "      <td>CST</td>\n",
              "      <td>Mumbai</td>\n",
              "      <td>Maharashtra</td>\n",
              "      <td>Commercial</td>\n",
              "      <td>19.0760</td>\n",
              "      <td>72.8777</td>\n",
              "    </tr>\n",
              "  </tbody>\n",
              "</table>\n",
              "<p>5005 rows × 13 columns</p>\n",
              "</div>"
            ],
            "text/plain": [
              "     Station  Year  Month   Day  Night  DayLimit  NightLimit Name       City  \\\n",
              "0      BEN01  2011      2  66.0   56.0        55          45  BTM  Bengaluru   \n",
              "1      BEN01  2011      3  66.0   58.0        55          45  BTM  Bengaluru   \n",
              "2      BEN01  2011      4  66.0   57.0        55          45  BTM  Bengaluru   \n",
              "3      BEN01  2011      5  66.0   56.0        55          45  BTM  Bengaluru   \n",
              "4      BEN01  2011      6  67.0   57.0        55          45  BTM  Bengaluru   \n",
              "...      ...   ...    ...   ...    ...       ...         ...  ...        ...   \n",
              "5000   MUM10  2018      8  73.0   69.0        65          55  CST     Mumbai   \n",
              "5001   MUM10  2018      9  72.0   68.0        65          55  CST     Mumbai   \n",
              "5002   MUM10  2018     10  73.0   68.0        65          55  CST     Mumbai   \n",
              "5003   MUM10  2018     11  72.0   68.0        65          55  CST     Mumbai   \n",
              "5004   MUM10  2018     12  72.0   68.0        65          55  CST     Mumbai   \n",
              "\n",
              "            State         Type  Latitude  Longitude  \n",
              "0       Karnataka  Residential   12.9716    77.5946  \n",
              "1       Karnataka  Residential   12.9716    77.5946  \n",
              "2       Karnataka  Residential   12.9716    77.5946  \n",
              "3       Karnataka  Residential   12.9716    77.5946  \n",
              "4       Karnataka  Residential   12.9716    77.5946  \n",
              "...           ...          ...       ...        ...  \n",
              "5000  Maharashtra   Commercial   19.0760    72.8777  \n",
              "5001  Maharashtra   Commercial   19.0760    72.8777  \n",
              "5002  Maharashtra   Commercial   19.0760    72.8777  \n",
              "5003  Maharashtra   Commercial   19.0760    72.8777  \n",
              "5004  Maharashtra   Commercial   19.0760    72.8777  \n",
              "\n",
              "[5005 rows x 13 columns]"
            ]
          },
          "execution_count": 24,
          "metadata": {},
          "output_type": "execute_result"
        }
      ],
      "source": [
        "merged_df['Latitude'] = merged_df['City'].map(lambda x: city_coords[x][0])\n",
        "merged_df['Longitude'] = merged_df['City'].map(lambda x: city_coords[x][1])\n",
        "merged_df"
      ]
    },
    {
      "cell_type": "code",
      "execution_count": 25,
      "metadata": {
        "colab": {
          "base_uri": "https://localhost:8080/",
          "height": 423
        },
        "id": "Q-O3BvIbVWMU",
        "outputId": "d86942f6-b356-4b3a-9f5b-6d3b8e6251dc"
      },
      "outputs": [
        {
          "data": {
            "text/html": [
              "<div>\n",
              "<style scoped>\n",
              "    .dataframe tbody tr th:only-of-type {\n",
              "        vertical-align: middle;\n",
              "    }\n",
              "\n",
              "    .dataframe tbody tr th {\n",
              "        vertical-align: top;\n",
              "    }\n",
              "\n",
              "    .dataframe thead th {\n",
              "        text-align: right;\n",
              "    }\n",
              "</style>\n",
              "<table border=\"1\" class=\"dataframe\">\n",
              "  <thead>\n",
              "    <tr style=\"text-align: right;\">\n",
              "      <th></th>\n",
              "      <th>Station</th>\n",
              "      <th>City</th>\n",
              "      <th>Latitude</th>\n",
              "      <th>Longitude</th>\n",
              "      <th>Day</th>\n",
              "    </tr>\n",
              "  </thead>\n",
              "  <tbody>\n",
              "    <tr>\n",
              "      <th>0</th>\n",
              "      <td>BEN01</td>\n",
              "      <td>Bengaluru</td>\n",
              "      <td>12.9716</td>\n",
              "      <td>77.5946</td>\n",
              "      <td>64.810526</td>\n",
              "    </tr>\n",
              "    <tr>\n",
              "      <th>1</th>\n",
              "      <td>BEN02</td>\n",
              "      <td>Bengaluru</td>\n",
              "      <td>12.9716</td>\n",
              "      <td>77.5946</td>\n",
              "      <td>60.894737</td>\n",
              "    </tr>\n",
              "    <tr>\n",
              "      <th>2</th>\n",
              "      <td>BEN03</td>\n",
              "      <td>Bengaluru</td>\n",
              "      <td>12.9716</td>\n",
              "      <td>77.5946</td>\n",
              "      <td>58.642105</td>\n",
              "    </tr>\n",
              "    <tr>\n",
              "      <th>3</th>\n",
              "      <td>BEN04</td>\n",
              "      <td>Bengaluru</td>\n",
              "      <td>12.9716</td>\n",
              "      <td>77.5946</td>\n",
              "      <td>65.578947</td>\n",
              "    </tr>\n",
              "    <tr>\n",
              "      <th>4</th>\n",
              "      <td>BEN05</td>\n",
              "      <td>Bengaluru</td>\n",
              "      <td>12.9716</td>\n",
              "      <td>77.5946</td>\n",
              "      <td>58.178947</td>\n",
              "    </tr>\n",
              "    <tr>\n",
              "      <th>...</th>\n",
              "      <td>...</td>\n",
              "      <td>...</td>\n",
              "      <td>...</td>\n",
              "      <td>...</td>\n",
              "      <td>...</td>\n",
              "    </tr>\n",
              "    <tr>\n",
              "      <th>65</th>\n",
              "      <td>MUM06</td>\n",
              "      <td>Mumbai</td>\n",
              "      <td>19.0760</td>\n",
              "      <td>72.8777</td>\n",
              "      <td>62.458333</td>\n",
              "    </tr>\n",
              "    <tr>\n",
              "      <th>66</th>\n",
              "      <td>MUM07</td>\n",
              "      <td>Mumbai</td>\n",
              "      <td>19.0760</td>\n",
              "      <td>72.8777</td>\n",
              "      <td>58.979167</td>\n",
              "    </tr>\n",
              "    <tr>\n",
              "      <th>67</th>\n",
              "      <td>MUM08</td>\n",
              "      <td>Mumbai</td>\n",
              "      <td>19.0760</td>\n",
              "      <td>72.8777</td>\n",
              "      <td>64.895833</td>\n",
              "    </tr>\n",
              "    <tr>\n",
              "      <th>68</th>\n",
              "      <td>MUM09</td>\n",
              "      <td>Mumbai</td>\n",
              "      <td>19.0760</td>\n",
              "      <td>72.8777</td>\n",
              "      <td>70.979167</td>\n",
              "    </tr>\n",
              "    <tr>\n",
              "      <th>69</th>\n",
              "      <td>MUM10</td>\n",
              "      <td>Mumbai</td>\n",
              "      <td>19.0760</td>\n",
              "      <td>72.8777</td>\n",
              "      <td>72.458333</td>\n",
              "    </tr>\n",
              "  </tbody>\n",
              "</table>\n",
              "<p>70 rows × 5 columns</p>\n",
              "</div>"
            ],
            "text/plain": [
              "   Station       City  Latitude  Longitude        Day\n",
              "0    BEN01  Bengaluru   12.9716    77.5946  64.810526\n",
              "1    BEN02  Bengaluru   12.9716    77.5946  60.894737\n",
              "2    BEN03  Bengaluru   12.9716    77.5946  58.642105\n",
              "3    BEN04  Bengaluru   12.9716    77.5946  65.578947\n",
              "4    BEN05  Bengaluru   12.9716    77.5946  58.178947\n",
              "..     ...        ...       ...        ...        ...\n",
              "65   MUM06     Mumbai   19.0760    72.8777  62.458333\n",
              "66   MUM07     Mumbai   19.0760    72.8777  58.979167\n",
              "67   MUM08     Mumbai   19.0760    72.8777  64.895833\n",
              "68   MUM09     Mumbai   19.0760    72.8777  70.979167\n",
              "69   MUM10     Mumbai   19.0760    72.8777  72.458333\n",
              "\n",
              "[70 rows x 5 columns]"
            ]
          },
          "execution_count": 25,
          "metadata": {},
          "output_type": "execute_result"
        }
      ],
      "source": [
        "# Aggregate average day noise for each station\n",
        "avg_noise = merged_df.groupby(['Station', 'City', 'Latitude', 'Longitude'])['Day'].mean().reset_index()\n",
        "avg_noise"
      ]
    },
    {
      "cell_type": "code",
      "execution_count": 26,
      "metadata": {
        "colab": {
          "base_uri": "https://localhost:8080/"
        },
        "id": "ELg4eemBVZ8h",
        "outputId": "00994438-f788-4320-a8b9-b1366d64d932"
      },
      "outputs": [
        {
          "name": "stdout",
          "output_type": "stream",
          "text": [
            "Max Day Noise: 77.77083333333333\n",
            "Min Day Noise: 53.242105263157896\n"
          ]
        }
      ],
      "source": [
        "# Check for outliers\n",
        "print(\"Max Day Noise:\", avg_noise['Day'].max())\n",
        "print(\"Min Day Noise:\", avg_noise['Day'].min())"
      ]
    },
    {
      "cell_type": "markdown",
      "metadata": {
        "id": "PRDDX73Bgw-1"
      },
      "source": [
        "**Notes:**\n",
        "\n",
        "\n",
        "*   Missing values in Day and Night are replaced with their respective column means.\n",
        "*   If no missing values were present (as per the original check), this step ensures robustness.\n",
        "\n",
        "*   If no missing values were present (as per the original check), this step ensures robustness.\n",
        "\n",
        "\n",
        "\n"
      ]
    },
    {
      "cell_type": "markdown",
      "metadata": {
        "id": "OcVwlNAcjKsc"
      },
      "source": [
        "**Step 5: Model Selection**\n",
        "\n",
        "Use **Inverse Distance Weighting (IDW)** via scipy.interpolate.griddata for spatial interpolation, as it’s simple and effective for this dataset."
      ]
    },
    {
      "cell_type": "markdown",
      "metadata": {
        "id": "ybz4ILH9jlzi"
      },
      "source": [
        "**Step 6: Model Training**\n",
        "\n",
        "Interpolate noise levels over a grid covering India."
      ]
    },
    {
      "cell_type": "code",
      "execution_count": 27,
      "metadata": {
        "id": "0w1Ke6PoVe5M"
      },
      "outputs": [],
      "source": [
        "# Define grid for interpolation\n",
        "x = np.linspace(72.0, 89.0, 100)  # Longitude range\n",
        "y = np.linspace(8.0, 35.0, 100)   # Latitude range\n",
        "X, Y = np.meshgrid(x, y)\n",
        "\n",
        "# Prepare data for interpolation\n",
        "points = avg_noise[['Longitude', 'Latitude']].values\n",
        "values = avg_noise['Day'].values\n",
        "\n",
        "# Perform IDW interpolation\n",
        "Z = griddata(points, values, (X, Y), method='cubic')\n",
        "Z_nearest = griddata(points, values, (X, Y), method='nearest')\n",
        "Z = np.where(np.isnan(Z), Z_nearest, Z)"
      ]
    },
    {
      "cell_type": "markdown",
      "metadata": {
        "id": "Kuj6PFWpj1bi"
      },
      "source": [
        "**Step 7: Model Evaluation**                                                          \n",
        "Perform leave-one-out cross-validation (LOOCV) to estimate interpolation accuracy."
      ]
    },
    {
      "cell_type": "code",
      "execution_count": 28,
      "metadata": {
        "colab": {
          "base_uri": "https://localhost:8080/"
        },
        "id": "2ll5pDUJVrgE",
        "outputId": "6fe78f63-5bab-4e1c-a69b-f18b6efd9cc6"
      },
      "outputs": [
        {
          "name": "stdout",
          "output_type": "stream",
          "text": [
            "LOOCV RMSE: 7.73 dB\n"
          ]
        }
      ],
      "source": [
        "# Redefine the LOOCV function to calculate RMSE correctly\n",
        "def loocv_idw(points, values):\n",
        "    predictions = []\n",
        "    for i in range(len(points)):\n",
        "        train_points = np.delete(points, i, axis=0)\n",
        "        train_values = np.delete(values, i)\n",
        "        test_point = points[i]\n",
        "        pred = griddata(train_points, train_values, [test_point], method='cubic')\n",
        "        if np.isnan(pred):\n",
        "            pred = griddata(train_points, train_values, [test_point], method='nearest')\n",
        "        predictions.append(pred[0])\n",
        "\n",
        "    # Calculate MSE and then take the square root to get RMSE\n",
        "    mse = mean_squared_error(values, predictions)\n",
        "    return np.sqrt(mse) # Return the square root of the MSE\n",
        "\n",
        "rmse = loocv_idw(points, values)\n",
        "print(f\"LOOCV RMSE: {rmse:.2f} dB\")"
      ]
    },
    {
      "cell_type": "markdown",
      "metadata": {
        "id": "T10PoCCckDGf"
      },
      "source": [
        "**Step 8: Model Tuning and Optimization**  \n",
        "The current IDW setup is sufficient. Potential tuning includes increasing grid resolution or testing Kriging, but we’ll proceed with IDW for simplicity."
      ]
    },
    {
      "cell_type": "markdown",
      "metadata": {
        "id": "IjI1XzgYkU0p"
      },
      "source": [
        "**Step 9: Final Model Testing and Visualization**\n",
        "Generate the heatmap."
      ]
    },
    {
      "cell_type": "code",
      "execution_count": 29,
      "metadata": {
        "colab": {
          "base_uri": "https://localhost:8080/",
          "height": 718
        },
        "id": "JzSMFmU1Vuyb",
        "outputId": "158c41d6-eebf-47fc-dea0-2faef3eff946"
      },
      "outputs": [
        {
          "data": {
            "image/png": "[encoded data removed]",
            "text/plain": [
              "<Figure size 1200x800 with 2 Axes>"
            ]
          },
          "metadata": {},
          "output_type": "display_data"
        }
      ],
      "source": [
        "# Create heatmap\n",
        "plt.figure(figsize=(12, 8))\n",
        "plt.contourf(X, Y, Z, cmap='RdYlGn_r', levels=20)\n",
        "plt.colorbar(label='Noise Level (dB)')\n",
        "plt.scatter(avg_noise['Longitude'], avg_noise['Latitude'], c='black', s=50, label='Stations')\n",
        "plt.title('Noise Pollution Heatmap Across Indian Cities (2011–2018)')\n",
        "plt.xlabel('Longitude')\n",
        "plt.ylabel('Latitude')\n",
        "plt.legend()\n",
        "plt.show()\n",
        "\n",
        "# Save the interpolated data\n",
        "np.savez('noise_heatmap.npz', X=X, Y=Y, Z=Z)\n",
        "avg_noise.to_csv('avg_noise_stations.csv', index=False)"
      ]
    },
    {
      "cell_type": "markdown",
      "metadata": {
        "id": "yxaXuaPok_CX"
      },
      "source": [
        "*The spatial noise pollution heatmap (2011–2018) spans Indian cities, with noise levels from 54 dB (green) to 96 dB (red).*\n",
        "\n",
        "\n",
        "*  Bengaluru and Chennai show the highest noise (~90–96 dB), indicating severe pollution.\n",
        "\n",
        "*  Mumbai and Hyderabad have moderate noise (~70–80 dB), reflecting urban activity.\n",
        "*   Delhi and Lucknow are quieter (~54–65 dB), suggesting lower noise issues.\n",
        "\n",
        "*   Sparse stations (e.g., Kolkata) may lead to underestimated noise levels.\n",
        "\n",
        "\n",
        "*   High noise areas (>70 dB) pose health risks like stress and hearing loss.\n",
        "\n",
        "\n",
        "\n",
        "\n"
      ]
    },
    {
      "cell_type": "code",
      "execution_count": null,
      "metadata": {
        "id": "b3nM8Z9PlrRz"
      },
      "outputs": [],
      "source": []
    }
  ],
  "metadata": {
    "colab": {
      "provenance": []
    },
    "kernelspec": {
      "display_name": "Python 3",
      "name": "python3"
    },
    "language_info": {
      "codemirror_mode": {
        "name": "ipython",
        "version": 3
      },
      "file_extension": ".py",
      "mimetype": "text/x-python",
      "name": "python",
      "nbconvert_exporter": "python",
      "pygments_lexer": "ipython3",
      "version": "3.12.6"
    }
  },
  "nbformat": 4,
  "nbformat_minor": 0
}
